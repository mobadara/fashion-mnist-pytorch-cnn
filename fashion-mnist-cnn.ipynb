{
  "nbformat": 4,
  "nbformat_minor": 0,
  "metadata": {
    "colab": {
      "provenance": [],
      "authorship_tag": "ABX9TyMpPplxHW+WgvxeQeqQ779w",
      "include_colab_link": true
    },
    "kernelspec": {
      "name": "python3",
      "display_name": "Python 3"
    },
    "language_info": {
      "name": "python"
    }
  },
  "cells": [
    {
      "cell_type": "markdown",
      "metadata": {
        "id": "view-in-github",
        "colab_type": "text"
      },
      "source": [
        "<a href=\"https://colab.research.google.com/github/mobadara/fashion-mnist-pytorch-cnn/blob/main/fashion-mnist-cnn.ipynb\" target=\"_parent\"><img src=\"https://colab.research.google.com/assets/colab-badge.svg\" alt=\"Open In Colab\"/></a>"
      ]
    },
    {
      "cell_type": "markdown",
      "source": [
        "# **Fashion MNIST Classification with PyTorch CNN**\n",
        "\n",
        "Welcome to this project where we'll dive into the world of image classification using the Fashion MNIST dataset and PyTorch! This project serves as a practical demonstration of my recently acquired PyTorch skills, focusing on building and training a Convolutional Neural Network (CNN) to accurately classify different fashion items.\n",
        "\n",
        "The Fashion MNIST dataset, a drop-in replacement for the classic MNIST dataset, comprises grayscale images of 70,000 fashion products from 10 categories, with 7,000 images per category. We will leverage the power of CNNs, which are particularly well-suited for image data, to learn the intricate patterns within these images and predict their corresponding fashion labels.\n",
        "\n",
        "**Let's begin by setting up our environment and loading the dataset using PyTorch's `torchvision` library.**"
      ],
      "metadata": {
        "id": "k7TPKQlb_hPs"
      }
    },
    {
      "cell_type": "code",
      "execution_count": null,
      "metadata": {
        "id": "pswguhVO-lzV"
      },
      "outputs": [],
      "source": [
        "import torch\n",
        "import torchvision\n",
        "import torchvision.transforms as transforms\n",
        "import torchvision.datasets as datasets\n",
        "import torch.nn as nn\n",
        "import torch.optim as optim\n",
        "import matplotlib.pyplot as plt\n",
        "import numpy as np"
      ]
    },
    {
      "cell_type": "markdown",
      "source": [
        "## Load the Dataset\n",
        "The train and test dataset is loaded below, and it returns a `TensorDataset` object."
      ],
      "metadata": {
        "id": "4qfsTp0VMpNc"
      }
    },
    {
      "cell_type": "code",
      "source": [
        "train_dataset = datasets.FashionMNIST(root='./data', train=True, download=True, transform=transforms.ToTensor())\n",
        "test_dataset = datasets.FashionMNIST(root='./data', train=False, download=True, transform=transforms.ToTensor())"
      ],
      "metadata": {
        "id": "E2FnZM8AAPCC",
        "colab": {
          "base_uri": "https://localhost:8080/"
        },
        "outputId": "173b54f0-0104-49cd-b4f6-80ee3efa54bc"
      },
      "execution_count": 2,
      "outputs": [
        {
          "output_type": "stream",
          "name": "stderr",
          "text": [
            "100%|██████████| 26.4M/26.4M [00:01<00:00, 19.4MB/s]\n",
            "100%|██████████| 29.5k/29.5k [00:00<00:00, 334kB/s]\n",
            "100%|██████████| 4.42M/4.42M [00:00<00:00, 6.25MB/s]\n",
            "100%|██████████| 5.15k/5.15k [00:00<00:00, 10.5MB/s]\n"
          ]
        }
      ]
    },
    {
      "cell_type": "markdown",
      "source": [
        "### **Insights**"
      ],
      "metadata": {
        "id": "xuKHXO_sXVg9"
      }
    },
    {
      "cell_type": "code",
      "source": [
        "print(f'Train dataset size: {len(train_dataset)}')\n",
        "print(f'Test dataset size: {len(test_dataset)}')"
      ],
      "metadata": {
        "colab": {
          "base_uri": "https://localhost:8080/"
        },
        "id": "PSO1ZN63OeqT",
        "outputId": "9be78ae3-4578-402e-df6e-7180c320d7ed"
      },
      "execution_count": 3,
      "outputs": [
        {
          "output_type": "stream",
          "name": "stdout",
          "text": [
            "Train dataset size: 60000\n",
            "Test dataset size: 10000\n"
          ]
        }
      ]
    },
    {
      "cell_type": "code",
      "source": [
        "print(f'Train dataset shape: {train_dataset[0][0].shape}')\n",
        "print(f'Test dataset shape: {test_dataset[0][0].shape}')"
      ],
      "metadata": {
        "colab": {
          "base_uri": "https://localhost:8080/"
        },
        "id": "iHRQRoXyXn-Q",
        "outputId": "87e12068-a447-480e-d05a-6a139f7d2980"
      },
      "execution_count": 4,
      "outputs": [
        {
          "output_type": "stream",
          "name": "stdout",
          "text": [
            "Train dataset shape: torch.Size([1, 28, 28])\n",
            "Test dataset shape: torch.Size([1, 28, 28])\n"
          ]
        }
      ]
    },
    {
      "cell_type": "code",
      "source": [
        "# Example Labels\n",
        "print(f'First Train Data Label: {train_dataset[0][1]}')\n",
        "print(f'FirstTest Data label: {test_dataset[0][1]}')"
      ],
      "metadata": {
        "colab": {
          "base_uri": "https://localhost:8080/"
        },
        "id": "YdEFAwnxZp5z",
        "outputId": "3bbb091c-3257-432e-d089-38bf41a2d9a0"
      },
      "execution_count": 14,
      "outputs": [
        {
          "output_type": "stream",
          "name": "stdout",
          "text": [
            "First Train Data Label: 9\n",
            "FirstTest Data label: 9\n"
          ]
        }
      ]
    },
    {
      "cell_type": "code",
      "source": [
        "train_dataset.class_to_idx"
      ],
      "metadata": {
        "colab": {
          "base_uri": "https://localhost:8080/"
        },
        "id": "FqqAm1okaQuC",
        "outputId": "7340bc82-4d1d-4d31-b672-adb826138b37"
      },
      "execution_count": 17,
      "outputs": [
        {
          "output_type": "execute_result",
          "data": {
            "text/plain": [
              "{'T-shirt/top': 0,\n",
              " 'Trouser': 1,\n",
              " 'Pullover': 2,\n",
              " 'Dress': 3,\n",
              " 'Coat': 4,\n",
              " 'Sandal': 5,\n",
              " 'Shirt': 6,\n",
              " 'Sneaker': 7,\n",
              " 'Bag': 8,\n",
              " 'Ankle boot': 9}"
            ]
          },
          "metadata": {},
          "execution_count": 17
        }
      ]
    },
    {
      "cell_type": "markdown",
      "source": [
        "The dataset contains **7000** examples in total, where **6000** examples are in the train set, and the remaining **1000** are in the test set. Each example contains an a greyscale (1 channel), $28 \\times 28$ pixels image of a fashion product and a label indicating the category of the fashion product whose image is given.\n",
        "\n",
        "Let's visualize the first six example in the train set with its corresponding label."
      ],
      "metadata": {
        "id": "glsx3gncXxcF"
      }
    },
    {
      "cell_type": "code",
      "source": [
        "fig, axs = plt.subplots(2, 3, figsize=(10, 10))\n",
        "for i in range(6):\n",
        "    ax = axs[i//3, i%3]\n",
        "    ax.imshow(train_dataset[i][0].permute(1, 2, 0), cmap='gray')\n",
        "    label_index = train_dataset[i][1]\n",
        "    label_name = train_dataset.classes[label_index]\n",
        "    ax.set_title(label_name)\n",
        "    ax.axis('off')\n",
        "plt.tight_layout()\n",
        "plt.show()"
      ],
      "metadata": {
        "colab": {
          "base_uri": "https://localhost:8080/",
          "height": 815
        },
        "id": "0R2o187GXuLg",
        "outputId": "8c4f8415-0c89-4aea-ebed-ee433095dd8f"
      },
      "execution_count": 19,
      "outputs": [
        {
          "output_type": "display_data",
          "data": {
            "text/plain": [
              "<Figure size 1000x1000 with 6 Axes>"
            ],
            "image/png": "[encoded data removed]"
          },
          "metadata": {}
        }
      ]
    },
    {
      "cell_type": "markdown",
      "source": [
        "As seen in the six examples in the picture, we have a sense of what the dataset looks like.\n",
        "\n",
        "Our goal is to develop a Deep Learning Model using PyTorch Convolutional Neural Network to classify unseen images of fashion product into its correct category. The model will be useful for fashion stores and to augment other computer vision models that sense their environments. Example, a models that identifies the kind of derss an individual is wearing."
      ],
      "metadata": {
        "id": "cv3OkuKoboV5"
      }
    },
    {
      "cell_type": "code",
      "source": [],
      "metadata": {
        "id": "mkCQNiY-Y5_r"
      },
      "execution_count": null,
      "outputs": []
    }
  ]
}